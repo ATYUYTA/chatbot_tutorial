{
 "cells": [
  {
   "cell_type": "code",
   "execution_count": null,
   "metadata": {},
   "outputs": [],
   "source": [
    "\"\"\"\n",
    "    1.抓secret_key裡面的資料（重要變數）\n",
    "    2.啟用API伺服器基本樣板，啟用伺服器基本\n",
    "    3.製作一個測試用接口\n",
    "    4.啟動server\n",
    "\n",
    "\"\"\""
   ]
  },
  {
   "cell_type": "code",
   "execution_count": null,
   "metadata": {},
   "outputs": [],
   "source": [
    "\"\"\"\n",
    "\n",
    "    1.抓secret_key裡面的資料\n",
    "    \n",
    "\"\"\"\n",
    "# 載入json處理套件\n",
    "import json\n",
    "\n",
    "# 載入基礎設定檔，本機執行所以路徑可以相對位置，在test.py要改成絕對路徑，因為是使用kernel開啟\n",
    "secretFile=json.load(open(\"./secret_key\",'r'))\n",
    "\n",
    "# 從linebot 套件包裡引用 LineBotApi 與 WebhookHandler 類別\n",
    "from linebot import (\n",
    "    LineBotApi, WebhookHandler\n",
    ")\n",
    "\n",
    "#讓requests能準確的傳送包，這邊ip要特別注意\n",
    "ip_location='127.0.0.1'\n",
    "\n",
    "# channel_access_token是用於傳送封包去給line的認證使用類似這個是私鑰，而公鑰已經丟到line那邊，拿著這個就可以有VIP特權\n",
    "line_bot_api = LineBotApi(secretFile.get(\"channel_access_token\"))\n",
    "# secret_key是用於當line傳送封包過來時確定line是否為本尊，沒有被仿冒\n",
    "handler = WebhookHandler(secretFile.get(\"secret_key\"))\n",
    "# rich_menu_id用於將所指定的rich menu綁定到加好友的用戶上\n",
    "menu_id = secretFile.get(\"rich_menu_id\")\n"
   ]
  },
  {
   "cell_type": "code",
   "execution_count": null,
   "metadata": {},
   "outputs": [],
   "source": [
    "\"\"\"\n",
    "\n",
    "  2.啟用伺服器基本樣板，啟用伺服器基本 \n",
    "\n",
    "\"\"\"\n",
    "\n",
    "# 引用Web Server套件\n",
    "from flask import Flask, request, abort , jsonify\n",
    "\n",
    "# 引用無效簽章錯誤\n",
    "from linebot.exceptions import (\n",
    "    InvalidSignatureError\n",
    ")\n",
    "\n",
    "\n",
    "# 設定Server啟用細節，這邊使用相對位置，test.py中使用絕對位置，因為是使用kernel開啟\n",
    "app = Flask(__name__,static_url_path = \"/images\" , static_folder = \"./images/\")\n",
    "\n",
    "\n",
    "# 啟動server對外接口，使Line能丟消息進來\n",
    "@app.route(\"/\", methods=['POST'])\n",
    "def callback():\n",
    "    # 取出封包的表頭，Line封包的加密機制\n",
    "    signature = request.headers['X-Line-Signature']\n",
    "\n",
    "    # 讀取封包內資料\n",
    "    body = request.get_data(as_text=True)\n",
    "    app.logger.info(\"Request body: \" + body)\n",
    "\n",
    "    # 解密的動作\n",
    "    try:\n",
    "        handler.handle(body, signature)\n",
    "    except InvalidSignatureError:\n",
    "        abort(400)\n",
    "\n",
    "    return 'OK'"
   ]
  },
  {
   "cell_type": "code",
   "execution_count": null,
   "metadata": {},
   "outputs": [],
   "source": [
    "\"\"\"\n",
    "    3.製作一個測試用接口\n",
    "\"\"\"\n",
    "@app.route('/hello',methods=['GET'])\n",
    "def hello():\n",
    "    return 'Hello World!!'"
   ]
  },
  {
   "cell_type": "code",
   "execution_count": null,
   "metadata": {},
   "outputs": [],
   "source": [
    "'''\n",
    "    4..啟動server\n",
    "\n",
    "'''\n",
    "\n",
    "if __name__ == \"__main__\":\n",
    "    app.run(host='0.0.0.0',port=5000)"
   ]
  },
  {
   "cell_type": "code",
   "execution_count": null,
   "metadata": {},
   "outputs": [],
   "source": []
  }
 ],
 "metadata": {
  "kernelspec": {
   "display_name": "Python 3",
   "language": "python",
   "name": "python3"
  },
  "language_info": {
   "codemirror_mode": {
    "name": "ipython",
    "version": 3
   },
   "file_extension": ".py",
   "mimetype": "text/x-python",
   "name": "python",
   "nbconvert_exporter": "python",
   "pygments_lexer": "ipython3",
   "version": "3.7.1"
  }
 },
 "nbformat": 4,
 "nbformat_minor": 2
}
